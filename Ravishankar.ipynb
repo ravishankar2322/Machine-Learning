{
 "cells": [
  {
   "cell_type": "code",
   "execution_count": 13,
   "id": "c44d218a",
   "metadata": {},
   "outputs": [
    {
     "name": "stdout",
     "output_type": "stream",
     "text": [
      "0\n",
      "1\n",
      "1\n",
      "2\n",
      "3\n",
      "5\n",
      "8\n",
      "13\n",
      "21\n",
      "34\n"
     ]
    }
   ],
   "source": [
    "def fibo(n):\n",
    "    if n<0:\n",
    "        print(\"incorrect\")\n",
    "    elif n == 0:\n",
    "        return 0\n",
    "    elif n == 1 or n == 2:\n",
    "        return 1\n",
    "    else:\n",
    "        return fibo(n-1) + fibo(n-2)\n",
    "nterm=10\n",
    "for i in range(nterm):\n",
    "    print(fibo(i))"
   ]
  },
  {
   "cell_type": "code",
   "execution_count": 16,
   "id": "64f3608c",
   "metadata": {},
   "outputs": [
    {
     "name": "stdout",
     "output_type": "stream",
     "text": [
      "Name:thamma\n",
      "Name:appa\n",
      "Name:amma\n",
      "total sal:18000 is total salary of all\n",
      "avg salary:6000.0 is avg salary of all\n"
     ]
    }
   ],
   "source": [
    "employee=[\n",
    "{\"name\":\"thamma\",\"salary\":5000},\n",
    "    {\"name\":\"appa\",\"salary\":6000}, {\"name\":\"amma\",\"salary\":7000}\n",
    "]\n",
    "total_sal=sum(emp[\"salary\"] for emp in employee)\n",
    "avg_salary=total_sal/len(employee)\n",
    "for emp in employee:\n",
    "     print(f\"Name:{emp['name']}\")\n",
    "print(f\"total sal:{total_sal} is total salary of all\")\n",
    "print(f\"avg salary:{avg_salary} is avg salary of all\")\n"
   ]
  },
  {
   "cell_type": "code",
   "execution_count": 21,
   "id": "8c8135b6",
   "metadata": {},
   "outputs": [
    {
     "name": "stdout",
     "output_type": "stream",
     "text": [
      "matrix sum:\n",
      " [[ 6  8]\n",
      " [10 12]]\n",
      "matrix product:\n",
      " [[19 22]\n",
      " [43 50]]\n",
      "solution to Ax=B: [2. 3.]\n"
     ]
    }
   ],
   "source": [
    "import numpy as np\n",
    "from scipy import linalg\n",
    "#Define two matricess\n",
    "matrix1 = np.array([[1,2],[3,4]])\n",
    "matrix2 = np.array([[5,6],[7,8]])\n",
    "#matrix opertions\n",
    "matrix_sum = matrix1 + matrix2\n",
    "matrix_product = np.dot(matrix1, matrix2)\n",
    "print(\"matrix sum:\\n\", matrix_sum)\n",
    "print(\"matrix product:\\n\", matrix_product)\n",
    "#solve a system of linear equations: Ax = B\n",
    "A = np.array([[3,1], [1,2]])\n",
    "B = np.array([9,8])\n",
    "solution = linalg.solve(A, B)\n",
    "print(\"solution to Ax=B:\", solution)"
   ]
  },
  {
   "cell_type": "code",
   "execution_count": null,
   "id": "2e305f43",
   "metadata": {},
   "outputs": [],
   "source": []
  }
 ],
 "metadata": {
  "kernelspec": {
   "display_name": "Python 3 (ipykernel)",
   "language": "python",
   "name": "python3"
  },
  "language_info": {
   "codemirror_mode": {
    "name": "ipython",
    "version": 3
   },
   "file_extension": ".py",
   "mimetype": "text/x-python",
   "name": "python",
   "nbconvert_exporter": "python",
   "pygments_lexer": "ipython3",
   "version": "3.11.5"
  }
 },
 "nbformat": 4,
 "nbformat_minor": 5
}
